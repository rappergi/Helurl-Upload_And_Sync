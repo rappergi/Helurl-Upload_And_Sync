{
  "nbformat": 4,
  "nbformat_minor": 0,
  "metadata": {
    "colab": {
      "provenance": [],
      "collapsed_sections": [
        "YSpSkKSvWwNO",
        "-hfR81jBwi1t",
        "RQiksS9F0UKY"
      ],
      "include_colab_link": true
    },
    "kernelspec": {
      "name": "python3",
      "display_name": "Python 3"
    },
    "language_info": {
      "name": "python"
    }
  },
  "cells": [
    {
      "cell_type": "markdown",
      "metadata": {
        "id": "view-in-github",
        "colab_type": "text"
      },
      "source": [
        "<a href=\"https://colab.research.google.com/github/rappergi/Helurl-Upload_And_Sync/blob/main/Helup_Tool_Copy_GD_To_Helurl_V2.1.ipynb\" target=\"_parent\"><img src=\"https://colab.research.google.com/assets/colab-badge.svg\" alt=\"Open In Colab\"/></a>"
      ]
    },
    {
      "cell_type": "markdown",
      "source": [
        "# **HELUP TOOL V1.0.0**\n",
        "Made by RapperGi\n",
        "\n",
        "***Link Github:*** https://github.com/rappergi"
      ],
      "metadata": {
        "id": "MNnSnm0E7gCb"
      }
    },
    {
      "cell_type": "markdown",
      "metadata": {
        "id": "YSpSkKSvWwNO"
      },
      "source": [
        "# Không giới hạn thời gian chạy\n",
        "Bước không giới hạn thời gian chạy, các bác có thể bỏ qua nếu như treo máy copy dưới 1 tiếng. Còn nếu treo máy copy lâu thì nên thực hiện để tránh trường hợp google colab tự ngắt kết nối\n",
        "\n"
      ]
    },
    {
      "cell_type": "markdown",
      "metadata": {
        "id": "DjyZ3W0MXDXX"
      },
      "source": [
        "*Nhấn* tổ hợp phím ctrl + Shift + I và chuyển sang tab console và dán đoạn mã sau đây, nhấn enter và để thế, không được tắt.\n",
        "\n",
        "<b> Tuyệt đối không tắt trình duyệt trong quá trình copy </b>"
      ]
    },
    {
      "cell_type": "markdown",
      "metadata": {
        "id": "4pqaYtRFXNSh"
      },
      "source": [
        "<code>function ClickConnect(){\n",
        "console.log(\"Working\");\n",
        "document.querySelector(\"colab-connect-button\").click()\n",
        "}setInterval(ClickConnect,6000)</code>"
      ]
    },
    {
      "cell_type": "code",
      "metadata": {
        "cellView": "form",
        "id": "k6RFfGnDWypP"
      },
      "source": [
        "#@markdown <h3>←Chạy cái này để google colab thực hiện lệnh vượt quá 60 phút mà không mất kết nối </h>\n",
        "\n",
        "\n",
        "import IPython\n",
        "from google.colab import output\n",
        "\n",
        "display(IPython.display.Javascript('''\n",
        " function ClickConnect(){\n",
        "   btn = document.querySelector(\"colab-connect-button\")\n",
        "   if (btn != null){\n",
        "     console.log(\"Click colab-connect-button\");\n",
        "     btn.click()\n",
        "     }\n",
        "\n",
        "   btn = document.getElementById('ok')\n",
        "   if (btn != null){\n",
        "     console.log(\"Click reconnect\");\n",
        "     btn.click()\n",
        "     }\n",
        "  }\n",
        "\n",
        "setInterval(ClickConnect,60000)\n",
        "'''))\n",
        "\n",
        "print(\"Done.\")"
      ],
      "execution_count": null,
      "outputs": []
    },
    {
      "cell_type": "markdown",
      "metadata": {
        "id": "-hfR81jBwi1t"
      },
      "source": [
        "# Kết nối với các file google drive"
      ]
    },
    {
      "cell_type": "code",
      "metadata": {
        "cellView": "form",
        "colab": {
          "base_uri": "https://localhost:8080/"
        },
        "id": "UFxAQQtjY-WD",
        "outputId": "b5d54fea-6504-4538-8a10-db1c815fd5e4"
      },
      "source": [
        "#@markdown <font size=4px color=\"green\"> --> Mount google drive </font>\n",
        "from google.colab import drive\n",
        "drive.mount('/content/drive',force_remount=True)\n",
        "\n",
        "from IPython.display import HTML, clear_output\n",
        "clear_output()\n",
        "print(\"Mount ổ đĩa thành công\")"
      ],
      "execution_count": null,
      "outputs": [
        {
          "output_type": "stream",
          "name": "stdout",
          "text": [
            "Mount ổ đĩa thành công\n"
          ]
        }
      ]
    },
    {
      "cell_type": "markdown",
      "metadata": {
        "id": "h5Uvj2yaUP0T"
      },
      "source": [
        "# Download Link Driterct"
      ]
    },
    {
      "cell_type": "code",
      "source": [
        "#@markdown <h5> Đường dẫn thư mục tải về /content/Download   </h5>\n",
        "Link_1 = \"\" #@param {type:\"string\"}\n",
        "Link_2 = \"\" #@param {type:\"string\"}\n",
        "Link_3 = \"\" #@param {type:\"string\"}\n",
        "!wget -P /content/Download \"$Link_1\" \"$Link_2\" \"$Link_3\"\n",
        "clear_output()\n",
        "print(\"[+] Download Completed\")\n"
      ],
      "metadata": {
        "colab": {
          "base_uri": "https://localhost:8080/"
        },
        "cellView": "form",
        "id": "3hW8MWqSGghs",
        "outputId": "f19146e6-a31a-4ef6-8176-7078fc3b5134"
      },
      "execution_count": null,
      "outputs": [
        {
          "output_type": "stream",
          "name": "stdout",
          "text": [
            "[+] Download Completed\n"
          ]
        }
      ]
    },
    {
      "cell_type": "markdown",
      "metadata": {
        "id": "yUVGcrJJPJaM"
      },
      "source": [
        "# Download Torrent"
      ]
    },
    {
      "cell_type": "code",
      "metadata": {
        "id": "m6hF0emftx4h",
        "cellView": "form"
      },
      "source": [
        "#@markdown <font size=4px color=\"green\"> Install libtorrent </font>\n",
        "!python -m pip install --upgrade pip setuptools wheel\n",
        "!python -m pip install lbry-libtorrent\n",
        "!apt install python3-libtorrent\n"
      ],
      "execution_count": null,
      "outputs": []
    },
    {
      "cell_type": "code",
      "source": [
        "#@markdown <font size=4px color=\"green\"> Upload File Torrent </font>\n",
        "from google.colab import files\n",
        "uploaded = files.upload()\n"
      ],
      "metadata": {
        "cellView": "form",
        "id": "jzUuImYUPTqh"
      },
      "execution_count": null,
      "outputs": []
    },
    {
      "cell_type": "code",
      "metadata": {
        "id": "DBNoYYoSuDBT",
        "cellView": "form"
      },
      "source": [
        "#@markdown <font size=4px color=\"green\"> Download Torrent</font>\n",
        "#@markdown <h5> Đường dẫn File sau khi Download xong /content/Download  </h5>\n",
        "import libtorrent as lt\n",
        "import time\n",
        "import sys\n",
        "\n",
        "ses = lt.session()\n",
        "ses.listen_on(6881, 6891)\n",
        "\n",
        "info = lt.torrent_info(list(uploaded.keys())[0])\n",
        "h = ses.add_torrent({\"ti\": info, \"save_path\": \"/content/Download\"})\n",
        "print(\"starting\", h.name())\n",
        "\n",
        "while not h.is_seed():\n",
        "    s = h.status()\n",
        "\n",
        "    state_str = [\n",
        "        \"queued\",\n",
        "        \"checking\",\n",
        "        \"downloading metadata\",\n",
        "        \"downloading\",\n",
        "        \"finished\",\n",
        "        \"seeding\",\n",
        "        \"allocating\",\n",
        "        \"checking fastresume\",\n",
        "    ]\n",
        "    print(\n",
        "        \"\\r%.2f%% complete (down: %.1f kb/s up: %.1f kB/s peers: %d) %s\"\n",
        "        % (\n",
        "            s.progress * 100,\n",
        "            s.download_rate / 1000,\n",
        "            s.upload_rate / 1000,\n",
        "            s.num_peers,\n",
        "            state_str[s.state],\n",
        "        )\n",
        "    )\n",
        "    sys.stdout.flush()\n",
        "    time.sleep(1)\n",
        "\n",
        "print(h.name(), \"complete\")"
      ],
      "execution_count": null,
      "outputs": []
    },
    {
      "cell_type": "markdown",
      "metadata": {
        "id": "RQiksS9F0UKY"
      },
      "source": [
        "# Tiến hành copy từ Google Drive to Helurl"
      ]
    },
    {
      "cell_type": "code",
      "source": [
        "#@markdown <font size=4px color=\"green\"> HELUP DOWNLOAD</font>\n",
        "#@markdown <h5> Download Helup về colab  </h5>\n",
        "!wget github.com/rappergi/Helurl-Upload_And_Sync/releases/download/v1.0.0/helup.py\n",
        "from IPython.display import HTML, clear_output\n",
        "clear_output()\n",
        "print(\"[+] Helup tool Download Completed\")"
      ],
      "metadata": {
        "cellView": "form",
        "id": "lI4pD8h2qV1a"
      },
      "execution_count": null,
      "outputs": []
    },
    {
      "cell_type": "code",
      "source": [
        "#@markdown <br>\n",
        "#@markdown <center><img src=\"https://telegra.ph/file/a73668c301cb89b949110.jpg\" alt=\"Cookie Editor\" width=480></center>\n",
        "#@markdown <h5> - Lấy Cookie theo 3 mục như hình trên </h5>"
      ],
      "metadata": {
        "cellView": "form",
        "id": "AGuwGl0Mdd2M"
      },
      "execution_count": null,
      "outputs": []
    },
    {
      "cell_type": "code",
      "source": [
        "#@markdown <font size=4px color=\"green\"> HELUP CONFIG</font>\n",
        "#@markdown <h5> - Điền Cookie và Key Helurl </h5>\n",
        "Cookie =  \"\" #@param {type:\"string\"}\n",
        "Key =  \"\" #@param {type:\"string\"}\n",
        "import os\n",
        "with open('cookie.json', 'w', encoding='utf-8') as f:\n",
        "  f.write(Cookie)\n",
        "print(\"[+] Cookie is saved\")\n",
        "\n",
        "with open('key.txt', 'w', encoding='utf-8') as f:\n",
        "  f.write(Key)\n",
        "print(\"[+] Key is saved\\n\\n*** LET COPY ***\")"
      ],
      "metadata": {
        "cellView": "form",
        "id": "7-c7iDfHANyu"
      },
      "execution_count": null,
      "outputs": []
    },
    {
      "cell_type": "code",
      "source": [
        "#@markdown <font size=4px color=\"green\"> HELUP COPY  </font>\n",
        "#@markdown <h5> Nhập source, target, và luồng để tiến hành copy </h5>\n",
        "Source =  \"\" #@param {type:\"string\"}\n",
        "Target =  \"\" #@param {type:\"string\"}\n",
        "Thread =  8 #@param {type:\"integer\"}\n",
        "\n",
        "!python3 helup.py copy \"$Source\" \"$Target\" -thread=\"$Thread\""
      ],
      "metadata": {
        "cellView": "form",
        "id": "yRf1WKWeBa0F"
      },
      "execution_count": null,
      "outputs": []
    },
    {
      "cell_type": "code",
      "source": [
        "# @title Xóa Thư Mục /Content/Download sau khi Upload Thành Công\n",
        "!rm -r -f /content/Download"
      ],
      "metadata": {
        "id": "zNeQDct2dOCQ",
        "cellView": "form"
      },
      "execution_count": null,
      "outputs": []
    }
  ]
}